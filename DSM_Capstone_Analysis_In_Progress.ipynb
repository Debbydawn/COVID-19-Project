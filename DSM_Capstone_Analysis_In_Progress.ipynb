{
 "cells": [
  {
   "cell_type": "markdown",
   "id": "14047d3b-facb-46ed-896d-3a3624adac64",
   "metadata": {
    "tags": []
   },
   "source": [
    "## Data Modelling and Analysis\n"
   ]
  },
  {
   "cell_type": "markdown",
   "id": "cee3d8e1-50ab-49cd-9559-5182f14c9530",
   "metadata": {},
   "source": [
    "## Exploratory Data Analysis\n"
   ]
  },
  {
   "cell_type": "code",
   "execution_count": 1,
   "id": "cbcf0557-e650-4323-961c-0ac962d26d88",
   "metadata": {},
   "outputs": [],
   "source": [
    "#importing the libraries\n",
    "import pandas as pd\n",
    "import numpy as np\n",
    "import seaborn as sns\n",
    "import datetime as dt\n",
    "import warnings\n",
    "import matplotlib.pyplot as plt\n",
    "warnings.simplefilter(action='ignore', category=FutureWarning)"
   ]
  },
  {
   "cell_type": "code",
   "execution_count": 2,
   "id": "4f4eaac1-33ab-41b5-98f4-946c1973a900",
   "metadata": {},
   "outputs": [
    {
     "data": {
      "text/html": [
       "<div>\n",
       "<style scoped>\n",
       "    .dataframe tbody tr th:only-of-type {\n",
       "        vertical-align: middle;\n",
       "    }\n",
       "\n",
       "    .dataframe tbody tr th {\n",
       "        vertical-align: top;\n",
       "    }\n",
       "\n",
       "    .dataframe thead th {\n",
       "        text-align: right;\n",
       "    }\n",
       "</style>\n",
       "<table border=\"1\" class=\"dataframe\">\n",
       "  <thead>\n",
       "    <tr style=\"text-align: right;\">\n",
       "      <th></th>\n",
       "      <th>Year</th>\n",
       "      <th>Country</th>\n",
       "      <th>Region</th>\n",
       "      <th>Yearly_Emission</th>\n",
       "      <th>GDP per capita</th>\n",
       "    </tr>\n",
       "  </thead>\n",
       "  <tbody>\n",
       "    <tr>\n",
       "      <th>0</th>\n",
       "      <td>2020</td>\n",
       "      <td>Angola</td>\n",
       "      <td>Southern_Africa</td>\n",
       "      <td>4096.093548</td>\n",
       "      <td>-8.493086</td>\n",
       "    </tr>\n",
       "    <tr>\n",
       "      <th>1</th>\n",
       "      <td>2021</td>\n",
       "      <td>Angola</td>\n",
       "      <td>Southern_Africa</td>\n",
       "      <td>4189.593229</td>\n",
       "      <td>-2.467404</td>\n",
       "    </tr>\n",
       "    <tr>\n",
       "      <th>2</th>\n",
       "      <td>2020</td>\n",
       "      <td>Albania</td>\n",
       "      <td>Central Europe</td>\n",
       "      <td>485.286511</td>\n",
       "      <td>-2.925821</td>\n",
       "    </tr>\n",
       "    <tr>\n",
       "      <th>3</th>\n",
       "      <td>2021</td>\n",
       "      <td>Albania</td>\n",
       "      <td>Central Europe</td>\n",
       "      <td>475.857561</td>\n",
       "      <td>9.554875</td>\n",
       "    </tr>\n",
       "    <tr>\n",
       "      <th>4</th>\n",
       "      <td>2020</td>\n",
       "      <td>Argentina</td>\n",
       "      <td>Rest South America</td>\n",
       "      <td>21615.588763</td>\n",
       "      <td>-10.765108</td>\n",
       "    </tr>\n",
       "  </tbody>\n",
       "</table>\n",
       "</div>"
      ],
      "text/plain": [
       "   Year    Country              Region  Yearly_Emission  GDP per capita\n",
       "0  2020     Angola     Southern_Africa      4096.093548       -8.493086\n",
       "1  2021     Angola     Southern_Africa      4189.593229       -2.467404\n",
       "2  2020    Albania      Central Europe       485.286511       -2.925821\n",
       "3  2021    Albania      Central Europe       475.857561        9.554875\n",
       "4  2020  Argentina  Rest South America     21615.588763      -10.765108"
      ]
     },
     "execution_count": 2,
     "metadata": {},
     "output_type": "execute_result"
    }
   ],
   "source": [
    "# importing the Dataframe\n",
    "carbon_gdp = pd.read_csv('carbon and GDP.csv')\n",
    "carbon_gdp.head()"
   ]
  },
  {
   "cell_type": "code",
   "execution_count": 3,
   "id": "70b96745-f750-4fe0-be65-ffad91327e58",
   "metadata": {},
   "outputs": [
    {
     "data": {
      "text/html": [
       "<div>\n",
       "<style scoped>\n",
       "    .dataframe tbody tr th:only-of-type {\n",
       "        vertical-align: middle;\n",
       "    }\n",
       "\n",
       "    .dataframe tbody tr th {\n",
       "        vertical-align: top;\n",
       "    }\n",
       "\n",
       "    .dataframe thead th {\n",
       "        text-align: right;\n",
       "    }\n",
       "</style>\n",
       "<table border=\"1\" class=\"dataframe\">\n",
       "  <thead>\n",
       "    <tr style=\"text-align: right;\">\n",
       "      <th></th>\n",
       "      <th>Yearly_Emission</th>\n",
       "      <th>GDP per capita</th>\n",
       "    </tr>\n",
       "  </thead>\n",
       "  <tbody>\n",
       "    <tr>\n",
       "      <th>Yearly_Emission</th>\n",
       "      <td>1.000000</td>\n",
       "      <td>0.073771</td>\n",
       "    </tr>\n",
       "    <tr>\n",
       "      <th>GDP per capita</th>\n",
       "      <td>0.073771</td>\n",
       "      <td>1.000000</td>\n",
       "    </tr>\n",
       "  </tbody>\n",
       "</table>\n",
       "</div>"
      ],
      "text/plain": [
       "                 Yearly_Emission  GDP per capita\n",
       "Yearly_Emission         1.000000        0.073771\n",
       "GDP per capita          0.073771        1.000000"
      ]
     },
     "execution_count": 3,
     "metadata": {},
     "output_type": "execute_result"
    },
    {
     "data": {
      "image/png": "[encoded data removed]",
      "text/plain": [
       "<Figure size 432x288 with 2 Axes>"
      ]
     },
     "metadata": {
      "needs_background": "light"
     },
     "output_type": "display_data"
    }
   ],
   "source": [
    "# creating correlation matrix with heatmap\n",
    "corr =  carbon_gdp[['Yearly_Emission','GDP per capita']].corr()\n",
    "corr_matrix = sns.heatmap(corr, xticklabels = corr.columns, yticklabels = corr.columns, annot = True)\n",
    "# checking the correlation table\n",
    "corr\n",
    "# saving the cmatrix as image\n",
    "# corr_matrix.to_p"
   ]
  },
  {
   "cell_type": "code",
   "execution_count": 4,
   "id": "7d5bb8b2-c7c7-4e67-97fe-33b83fa95502",
   "metadata": {},
   "outputs": [
    {
     "data": {
      "text/plain": [
       "<AxesSubplot:>"
      ]
     },
     "execution_count": 4,
     "metadata": {},
     "output_type": "execute_result"
    },
    {
     "data": {
      "image/png": "[encoded data removed]",
      "text/plain": [
       "<Figure size 432x288 with 1 Axes>"
      ]
     },
     "metadata": {
      "needs_background": "light"
     },
     "output_type": "display_data"
    }
   ],
   "source": [
    "carbon_gdp[['Yearly_Emission']].boxplot()\n"
   ]
  },
  {
   "cell_type": "code",
   "execution_count": 5,
   "id": "cce4166e-e3b3-4619-85d5-75e9f9bd57ee",
   "metadata": {},
   "outputs": [
    {
     "data": {
      "text/plain": [
       "<AxesSubplot:>"
      ]
     },
     "execution_count": 5,
     "metadata": {},
     "output_type": "execute_result"
    },
    {
     "data": {
      "image/png": "[encoded data removed]",
      "text/plain": [
       "<Figure size 432x288 with 1 Axes>"
      ]
     },
     "metadata": {
      "needs_background": "light"
     },
     "output_type": "display_data"
    }
   ],
   "source": [
    "carbon_gdp[['GDP per capita']].boxplot()"
   ]
  },
  {
   "cell_type": "code",
   "execution_count": 6,
   "id": "cf6341ae-350a-4255-9025-ec32151c3bf5",
   "metadata": {},
   "outputs": [
    {
     "data": {
      "text/plain": [
       "<seaborn.axisgrid.FacetGrid at 0x275ab184df0>"
      ]
     },
     "execution_count": 6,
     "metadata": {},
     "output_type": "execute_result"
    },
    {
     "data": {
      "image/png": "[encoded data removed]",
      "text/plain": [
       "<Figure size 360x360 with 1 Axes>"
      ]
     },
     "metadata": {
      "needs_background": "light"
     },
     "output_type": "display_data"
    }
   ],
   "source": [
    "#plot the histogram to see the distribution of the point data.\n",
    "sns.displot(carbon_gdp, x=\"Yearly_Emission\",bins=20)"
   ]
  },
  {
   "cell_type": "code",
   "execution_count": 7,
   "id": "7436cbdb-80e8-4b67-9e2e-542f4f71b9cd",
   "metadata": {},
   "outputs": [
    {
     "data": {
      "text/plain": [
       "<seaborn.axisgrid.FacetGrid at 0x275ab323070>"
      ]
     },
     "execution_count": 7,
     "metadata": {},
     "output_type": "execute_result"
    },
    {
     "data": {
      "image/png": "[encoded data removed]",
      "text/plain": [
       "<Figure size 360x360 with 1 Axes>"
      ]
     },
     "metadata": {
      "needs_background": "light"
     },
     "output_type": "display_data"
    }
   ],
   "source": [
    "#plot the histogram to see the distribution of the point data.\n",
    "sns.displot(carbon_gdp, x=\"GDP per capita\",bins=20)"
   ]
  },
  {
   "cell_type": "code",
   "execution_count": 8,
   "id": "b6b6f047-6bed-4e0c-9849-b6e0abc0ce3e",
   "metadata": {},
   "outputs": [
    {
     "data": {
      "text/plain": [
       "<seaborn.axisgrid.FacetGrid at 0x275ab3db6a0>"
      ]
     },
     "execution_count": 8,
     "metadata": {},
     "output_type": "execute_result"
    },
    {
     "data": {
      "image/png": "[encoded data removed]",
      "text/plain": [
       "<Figure size 360x360 with 1 Axes>"
      ]
     },
     "metadata": {
      "needs_background": "light"
     },
     "output_type": "display_data"
    }
   ],
   "source": [
    "sns.relplot(x = 'GDP per capita', y = 'Yearly_Emission', data = carbon_gdp)"
   ]
  },
  {
   "cell_type": "code",
   "execution_count": 9,
   "id": "b5bdc562-e9b9-4f6d-8f8e-7ba29ea4e30f",
   "metadata": {},
   "outputs": [
    {
     "data": {
      "text/plain": [
       "<seaborn.axisgrid.PairGrid at 0x275ab1cfd90>"
      ]
     },
     "execution_count": 9,
     "metadata": {},
     "output_type": "execute_result"
    },
    {
     "data": {
      "image/png": "[encoded data removed]",
      "text/plain": [
       "<Figure size 360x360 with 6 Axes>"
      ]
     },
     "metadata": {
      "needs_background": "light"
     },
     "output_type": "display_data"
    }
   ],
   "source": [
    "sns.pairplot(carbon_gdp[['Yearly_Emission','GDP per capita']])"
   ]
  },
  {
   "cell_type": "code",
   "execution_count": null,
   "id": "79b45971-7732-4c99-92a4-7446e9c6faf0",
   "metadata": {},
   "outputs": [],
   "source": []
  },
  {
   "cell_type": "code",
   "execution_count": 10,
   "id": "9ece1d40-a978-4b96-975e-b44de4329345",
   "metadata": {},
   "outputs": [
    {
     "data": {
      "text/plain": [
       "<AxesSubplot:xlabel='GDP per capita', ylabel='Density'>"
      ]
     },
     "execution_count": 10,
     "metadata": {},
     "output_type": "execute_result"
    },
    {
     "data": {
      "image/png": "[encoded data removed]",
      "text/plain": [
       "<Figure size 864x432 with 1 Axes>"
      ]
     },
     "metadata": {
      "needs_background": "light"
     },
     "output_type": "display_data"
    }
   ],
   "source": [
    "#\n",
    "plt.figure(figsize=(12,6))\n",
    "sns.distplot(carbon_gdp['GDP per capita'], hist=True, kde=True, \n",
    "             bins=int(180/5), color = 'darkblue', \n",
    "             hist_kws={'edgecolor':'black'},\n",
    "             kde_kws={'linewidth': 4})"
   ]
  },
  {
   "cell_type": "code",
   "execution_count": 11,
   "id": "c8aaac76-ed30-4af5-9705-f52cc3cd04c6",
   "metadata": {},
   "outputs": [
    {
     "data": {
      "text/plain": [
       "<AxesSubplot:xlabel='Yearly_Emission', ylabel='Density'>"
      ]
     },
     "execution_count": 11,
     "metadata": {},
     "output_type": "execute_result"
    },
    {
     "data": {
      "image/png": "[encoded data removed]",
      "text/plain": [
       "<Figure size 864x432 with 1 Axes>"
      ]
     },
     "metadata": {
      "needs_background": "light"
     },
     "output_type": "display_data"
    }
   ],
   "source": [
    "#\n",
    "plt.figure(figsize=(12,6))\n",
    "sns.distplot(carbon_gdp['Yearly_Emission'], hist=True, kde=True, \n",
    "             bins=int(180/5), color = 'darkblue', \n",
    "             hist_kws={'edgecolor':'black'},\n",
    "             kde_kws={'linewidth': 4})"
   ]
  },
  {
   "cell_type": "code",
   "execution_count": null,
   "id": "737b8815-328b-4f3a-aa3d-982c99a9396a",
   "metadata": {},
   "outputs": [],
   "source": []
  },
  {
   "cell_type": "markdown",
   "id": "15307c19-e7d2-4a59-8e88-06e014ef4c9a",
   "metadata": {},
   "source": [
    "## Working on the three merged datas\n"
   ]
  },
  {
   "cell_type": "code",
   "execution_count": 12,
   "id": "dbcd3c10-46ba-499d-8718-ca82429a7626",
   "metadata": {},
   "outputs": [
    {
     "data": {
      "text/html": [
       "<div>\n",
       "<style scoped>\n",
       "    .dataframe tbody tr th:only-of-type {\n",
       "        vertical-align: middle;\n",
       "    }\n",
       "\n",
       "    .dataframe tbody tr th {\n",
       "        vertical-align: top;\n",
       "    }\n",
       "\n",
       "    .dataframe thead th {\n",
       "        text-align: right;\n",
       "    }\n",
       "</style>\n",
       "<table border=\"1\" class=\"dataframe\">\n",
       "  <thead>\n",
       "    <tr style=\"text-align: right;\">\n",
       "      <th></th>\n",
       "      <th>Year</th>\n",
       "      <th>Country</th>\n",
       "      <th>New_cases</th>\n",
       "      <th>Cumulative_cases</th>\n",
       "      <th>New_deaths</th>\n",
       "      <th>Cumulative_deaths</th>\n",
       "      <th>Region</th>\n",
       "      <th>Yearly_Emission</th>\n",
       "      <th>GDP per capita</th>\n",
       "    </tr>\n",
       "  </thead>\n",
       "  <tbody>\n",
       "    <tr>\n",
       "      <th>0</th>\n",
       "      <td>2020</td>\n",
       "      <td>Albania</td>\n",
       "      <td>159.0</td>\n",
       "      <td>10080.0</td>\n",
       "      <td>3.0</td>\n",
       "      <td>240.0</td>\n",
       "      <td>Central Europe</td>\n",
       "      <td>485.286511</td>\n",
       "      <td>-2.925821</td>\n",
       "    </tr>\n",
       "    <tr>\n",
       "      <th>1</th>\n",
       "      <td>2021</td>\n",
       "      <td>Albania</td>\n",
       "      <td>416.0</td>\n",
       "      <td>139607.0</td>\n",
       "      <td>6.0</td>\n",
       "      <td>2382.0</td>\n",
       "      <td>Central Europe</td>\n",
       "      <td>475.857561</td>\n",
       "      <td>9.554875</td>\n",
       "    </tr>\n",
       "    <tr>\n",
       "      <th>2</th>\n",
       "      <td>2020</td>\n",
       "      <td>Algeria</td>\n",
       "      <td>273.0</td>\n",
       "      <td>28797.0</td>\n",
       "      <td>8.0</td>\n",
       "      <td>1027.0</td>\n",
       "      <td>Northern_Africa</td>\n",
       "      <td>14090.389187</td>\n",
       "      <td>-6.826964</td>\n",
       "    </tr>\n",
       "    <tr>\n",
       "      <th>3</th>\n",
       "      <td>2021</td>\n",
       "      <td>Algeria</td>\n",
       "      <td>325.0</td>\n",
       "      <td>156314.0</td>\n",
       "      <td>10.0</td>\n",
       "      <td>4275.0</td>\n",
       "      <td>Northern_Africa</td>\n",
       "      <td>14426.418662</td>\n",
       "      <td>2.065855</td>\n",
       "    </tr>\n",
       "    <tr>\n",
       "      <th>4</th>\n",
       "      <td>2020</td>\n",
       "      <td>Angola</td>\n",
       "      <td>48.0</td>\n",
       "      <td>3643.0</td>\n",
       "      <td>1.0</td>\n",
       "      <td>100.0</td>\n",
       "      <td>Southern_Africa</td>\n",
       "      <td>4096.093548</td>\n",
       "      <td>-8.493086</td>\n",
       "    </tr>\n",
       "  </tbody>\n",
       "</table>\n",
       "</div>"
      ],
      "text/plain": [
       "   Year  Country  New_cases  Cumulative_cases  New_deaths  Cumulative_deaths  \\\n",
       "0  2020  Albania      159.0           10080.0         3.0              240.0   \n",
       "1  2021  Albania      416.0          139607.0         6.0             2382.0   \n",
       "2  2020  Algeria      273.0           28797.0         8.0             1027.0   \n",
       "3  2021  Algeria      325.0          156314.0        10.0             4275.0   \n",
       "4  2020   Angola       48.0            3643.0         1.0              100.0   \n",
       "\n",
       "            Region  Yearly_Emission  GDP per capita  \n",
       "0   Central Europe       485.286511       -2.925821  \n",
       "1   Central Europe       475.857561        9.554875  \n",
       "2  Northern_Africa     14090.389187       -6.826964  \n",
       "3  Northern_Africa     14426.418662        2.065855  \n",
       "4  Southern_Africa      4096.093548       -8.493086  "
      ]
     },
     "execution_count": 12,
     "metadata": {},
     "output_type": "execute_result"
    }
   ],
   "source": [
    "# importing all three data\n",
    "all_data = pd.read_csv('DSM_data.csv')\n",
    "all_data.head()"
   ]
  },
  {
   "cell_type": "code",
   "execution_count": 13,
   "id": "7ad218f3-54be-4564-898f-6e3645ce978f",
   "metadata": {},
   "outputs": [
    {
     "data": {
      "text/html": [
       "<div>\n",
       "<style scoped>\n",
       "    .dataframe tbody tr th:only-of-type {\n",
       "        vertical-align: middle;\n",
       "    }\n",
       "\n",
       "    .dataframe tbody tr th {\n",
       "        vertical-align: top;\n",
       "    }\n",
       "\n",
       "    .dataframe thead th {\n",
       "        text-align: right;\n",
       "    }\n",
       "</style>\n",
       "<table border=\"1\" class=\"dataframe\">\n",
       "  <thead>\n",
       "    <tr style=\"text-align: right;\">\n",
       "      <th></th>\n",
       "      <th>New_cases</th>\n",
       "      <th>Cumulative_cases</th>\n",
       "      <th>New_deaths</th>\n",
       "      <th>Cumulative_deaths</th>\n",
       "      <th>Yearly_Emission</th>\n",
       "      <th>GDP per capita</th>\n",
       "    </tr>\n",
       "  </thead>\n",
       "  <tbody>\n",
       "    <tr>\n",
       "      <th>New_cases</th>\n",
       "      <td>1.000000</td>\n",
       "      <td>0.949089</td>\n",
       "      <td>0.880424</td>\n",
       "      <td>0.832908</td>\n",
       "      <td>0.256536</td>\n",
       "      <td>0.127847</td>\n",
       "    </tr>\n",
       "    <tr>\n",
       "      <th>Cumulative_cases</th>\n",
       "      <td>0.949089</td>\n",
       "      <td>1.000000</td>\n",
       "      <td>0.842735</td>\n",
       "      <td>0.885247</td>\n",
       "      <td>0.218011</td>\n",
       "      <td>0.172790</td>\n",
       "    </tr>\n",
       "    <tr>\n",
       "      <th>New_deaths</th>\n",
       "      <td>0.880424</td>\n",
       "      <td>0.842735</td>\n",
       "      <td>1.000000</td>\n",
       "      <td>0.919167</td>\n",
       "      <td>0.222631</td>\n",
       "      <td>0.090663</td>\n",
       "    </tr>\n",
       "    <tr>\n",
       "      <th>Cumulative_deaths</th>\n",
       "      <td>0.832908</td>\n",
       "      <td>0.885247</td>\n",
       "      <td>0.919167</td>\n",
       "      <td>1.000000</td>\n",
       "      <td>0.180789</td>\n",
       "      <td>0.174300</td>\n",
       "    </tr>\n",
       "    <tr>\n",
       "      <th>Yearly_Emission</th>\n",
       "      <td>0.256536</td>\n",
       "      <td>0.218011</td>\n",
       "      <td>0.222631</td>\n",
       "      <td>0.180789</td>\n",
       "      <td>1.000000</td>\n",
       "      <td>0.072274</td>\n",
       "    </tr>\n",
       "    <tr>\n",
       "      <th>GDP per capita</th>\n",
       "      <td>0.127847</td>\n",
       "      <td>0.172790</td>\n",
       "      <td>0.090663</td>\n",
       "      <td>0.174300</td>\n",
       "      <td>0.072274</td>\n",
       "      <td>1.000000</td>\n",
       "    </tr>\n",
       "  </tbody>\n",
       "</table>\n",
       "</div>"
      ],
      "text/plain": [
       "                   New_cases  Cumulative_cases  New_deaths  Cumulative_deaths  \\\n",
       "New_cases           1.000000          0.949089    0.880424           0.832908   \n",
       "Cumulative_cases    0.949089          1.000000    0.842735           0.885247   \n",
       "New_deaths          0.880424          0.842735    1.000000           0.919167   \n",
       "Cumulative_deaths   0.832908          0.885247    0.919167           1.000000   \n",
       "Yearly_Emission     0.256536          0.218011    0.222631           0.180789   \n",
       "GDP per capita      0.127847          0.172790    0.090663           0.174300   \n",
       "\n",
       "                   Yearly_Emission  GDP per capita  \n",
       "New_cases                 0.256536        0.127847  \n",
       "Cumulative_cases          0.218011        0.172790  \n",
       "New_deaths                0.222631        0.090663  \n",
       "Cumulative_deaths         0.180789        0.174300  \n",
       "Yearly_Emission           1.000000        0.072274  \n",
       "GDP per capita            0.072274        1.000000  "
      ]
     },
     "execution_count": 13,
     "metadata": {},
     "output_type": "execute_result"
    },
    {
     "data": {
      "image/png": "[encoded data removed]",
      "text/plain": [
       "<Figure size 432x288 with 2 Axes>"
      ]
     },
     "metadata": {
      "needs_background": "light"
     },
     "output_type": "display_data"
    }
   ],
   "source": [
    "# creating correlation matrix with heatmap\n",
    "corr_2 =  all_data[['New_cases','Cumulative_cases','New_deaths','Cumulative_deaths','Yearly_Emission','GDP per capita']].corr()\n",
    "corr_matrix = sns.heatmap(corr_2, xticklabels = corr_2.columns, yticklabels = corr_2.columns, annot = True)\n",
    "# checking the correlation table\n",
    "corr_2\n",
    "# saving the cmatrix as image\n",
    "# corr_matrix.to_p"
   ]
  },
  {
   "cell_type": "code",
   "execution_count": 14,
   "id": "236023e2-57f1-4829-8f81-710d44a9a442",
   "metadata": {},
   "outputs": [
    {
     "data": {
      "text/plain": [
       "New_deaths           1.000000\n",
       "Cumulative_deaths    0.919167\n",
       "New_cases            0.880424\n",
       "Cumulative_cases     0.842735\n",
       "Yearly_Emission      0.222631\n",
       "GDP per capita       0.090663\n",
       "Name: New_deaths, dtype: float64"
      ]
     },
     "execution_count": 14,
     "metadata": {},
     "output_type": "execute_result"
    }
   ],
   "source": [
    "corr_2['New_deaths'].sort_values(ascending= False)"
   ]
  },
  {
   "cell_type": "code",
   "execution_count": 15,
   "id": "e8575b64-d3ec-4674-9a6d-f88d99802a8d",
   "metadata": {},
   "outputs": [
    {
     "ename": "NameError",
     "evalue": "name 'x_train' is not defined",
     "output_type": "error",
     "traceback": [
      "\u001b[1;31m---------------------------------------------------------------------------\u001b[0m",
      "\u001b[1;31mNameError\u001b[0m                                 Traceback (most recent call last)",
      "Input \u001b[1;32mIn [15]\u001b[0m, in \u001b[0;36m<cell line: 3>\u001b[1;34m()\u001b[0m\n\u001b[0;32m      1\u001b[0m \u001b[38;5;28;01mfrom\u001b[39;00m \u001b[38;5;21;01msklearn\u001b[39;00m\u001b[38;5;21;01m.\u001b[39;00m\u001b[38;5;21;01mpreprocessing\u001b[39;00m \u001b[38;5;28;01mimport\u001b[39;00m StandardScaler\n\u001b[0;32m      2\u001b[0m scaler \u001b[38;5;241m=\u001b[39m StandardScaler()\n\u001b[1;32m----> 3\u001b[0m x_train \u001b[38;5;241m=\u001b[39m scaler\u001b[38;5;241m.\u001b[39mfit_transform(\u001b[43mx_train\u001b[49m)\n\u001b[0;32m      4\u001b[0m x_test \u001b[38;5;241m=\u001b[39m scaler\u001b[38;5;241m.\u001b[39mtransform(x_test)\n",
      "\u001b[1;31mNameError\u001b[0m: name 'x_train' is not defined"
     ]
    }
   ],
   "source": [
    "from sklearn.preprocessing import StandardScaler\n",
    "scaler = StandardScaler()\n",
    "x_train = scaler.fit_transform(x_train)\n",
    "x_test = scaler.transform(x_test)\n"
   ]
  },
  {
   "cell_type": "code",
   "execution_count": null,
   "id": "55ba928a-8fdf-4913-9b7d-08153329c78f",
   "metadata": {},
   "outputs": [],
   "source": []
  },
  {
   "cell_type": "code",
   "execution_count": null,
   "id": "8281ec48-6a0d-4c3a-89f7-d58b67fc5f24",
   "metadata": {},
   "outputs": [],
   "source": [
    "all_data[['New_cases']].boxplot()\n"
   ]
  },
  {
   "cell_type": "code",
   "execution_count": null,
   "id": "94d07bbe-ea44-442b-99ee-2f2fff9aa3dc",
   "metadata": {},
   "outputs": [],
   "source": [
    "all_data[['Cumulative_cases']].boxplot()"
   ]
  },
  {
   "cell_type": "code",
   "execution_count": null,
   "id": "beedb3e3-df54-4e6d-a15a-83002e506504",
   "metadata": {},
   "outputs": [],
   "source": [
    "all_data[['New_deaths']].boxplot()"
   ]
  },
  {
   "cell_type": "code",
   "execution_count": null,
   "id": "a7b97cd3-9250-4013-a8d2-ea8a86c9585f",
   "metadata": {},
   "outputs": [],
   "source": [
    "all_data[['Cumulative_deaths']].boxplot()"
   ]
  },
  {
   "cell_type": "code",
   "execution_count": null,
   "id": "72fb640e-8834-4fed-a6a9-274fc457d3a6",
   "metadata": {},
   "outputs": [],
   "source": [
    "#plot the histogram to see the distribution of the point data.\n",
    "sns.displot(all_data, x=\"New_cases\",bins=20)"
   ]
  },
  {
   "cell_type": "code",
   "execution_count": null,
   "id": "4ffae9e4-b8a4-40a2-bc03-5aa26edf1731",
   "metadata": {},
   "outputs": [],
   "source": [
    "#plot the histogram to see the distribution of the point data.\n",
    "sns.displot(all_data, x=\"Cumulative_cases\",bins=20)"
   ]
  },
  {
   "cell_type": "code",
   "execution_count": null,
   "id": "d95864f4-4e92-4edd-a431-2ac1bd52c3cf",
   "metadata": {},
   "outputs": [],
   "source": [
    "sns.displot(all_data, x=\"New_deaths\",bins=20)"
   ]
  },
  {
   "cell_type": "code",
   "execution_count": null,
   "id": "fd76868a-55ef-40fc-bd3a-fd722fe3648c",
   "metadata": {},
   "outputs": [],
   "source": [
    "sns.displot(all_data, x=\"Cumulative_deaths\",bins=20)"
   ]
  },
  {
   "cell_type": "code",
   "execution_count": null,
   "id": "dc91eed8-6385-475b-af59-b46c25289dc6",
   "metadata": {},
   "outputs": [],
   "source": []
  },
  {
   "cell_type": "code",
   "execution_count": null,
   "id": "3705c4f6-2d11-47b8-a053-034823b41392",
   "metadata": {},
   "outputs": [],
   "source": [
    "#\n",
    "plt.figure(figsize=(12,6))\n",
    "sns.distplot(all_data['New_cases'], hist=True, kde=True, \n",
    "             bins=int(180/5), color = 'darkblue', \n",
    "             hist_kws={'edgecolor':'black'},\n",
    "             kde_kws={'linewidth': 4})"
   ]
  },
  {
   "cell_type": "code",
   "execution_count": null,
   "id": "21ffab9e-7380-45fa-86d3-cf9042e55c5f",
   "metadata": {},
   "outputs": [],
   "source": [
    "#\n",
    "plt.figure(figsize=(12,6))\n",
    "sns.distplot(all_data['New_deaths'], hist=True, kde=True, \n",
    "             bins=int(180/5), color = 'darkblue', \n",
    "             hist_kws={'edgecolor':'black'},\n",
    "             kde_kws={'linewidth': 4})"
   ]
  },
  {
   "cell_type": "code",
   "execution_count": null,
   "id": "7d9697dc-ef07-4905-a39d-4f8a1f220f54",
   "metadata": {},
   "outputs": [],
   "source": [
    "#\n",
    "plt.figure(figsize=(12,6))\n",
    "sns.distplot(all_data['GDP per capita'], hist=True, kde=True, \n",
    "             bins=int(180/5), color = 'darkblue', \n",
    "             hist_kws={'edgecolor':'black'},\n",
    "             kde_kws={'linewidth': 4})"
   ]
  },
  {
   "cell_type": "code",
   "execution_count": null,
   "id": "7667ab4d-d9d1-4d95-b789-1320877821ac",
   "metadata": {},
   "outputs": [],
   "source": [
    "#\n",
    "plt.figure(figsize=(12,6))\n",
    "sns.distplot(all_data['Cumulative_cases'], hist=True, kde=True, \n",
    "             bins=int(180/5), color = 'darkblue', \n",
    "             hist_kws={'edgecolor':'black'},\n",
    "             kde_kws={'linewidth': 4})"
   ]
  },
  {
   "cell_type": "code",
   "execution_count": null,
   "id": "c4e499ec-1958-4ede-9c19-93e87d9e5710",
   "metadata": {},
   "outputs": [],
   "source": [
    "#\n",
    "plt.figure(figsize=(12,6))\n",
    "sns.distplot(all_data['Cumulative_deaths'], hist=True, kde=True, \n",
    "             bins=int(180/5), color = 'red', \n",
    "             hist_kws={'edgecolor':'black'},\n",
    "             kde_kws={'linewidth': 4})"
   ]
  },
  {
   "cell_type": "markdown",
   "id": "dfb37dcf-a374-4ca1-af13-337fc52fae3d",
   "metadata": {},
   "source": [
    "## For the carbon Emission"
   ]
  },
  {
   "cell_type": "code",
   "execution_count": null,
   "id": "0dae7e94-ef2a-4dd3-a364-d4667f64a192",
   "metadata": {},
   "outputs": [],
   "source": [
    "#So there are many entries with 0 for New cases and there are a few outliers as well!\n",
    "plt.scatter(x = all_data['New_cases'], y = all_data['Yearly_Emission'])\n",
    "plt.ylabel('C02 Emission')\n",
    "plt.xlabel('New COVID-19 Cases')"
   ]
  },
  {
   "cell_type": "code",
   "execution_count": null,
   "id": "2d5ab10f-e96c-42a1-a200-e42b89da1dcb",
   "metadata": {},
   "outputs": [],
   "source": [
    "# remove New_cases outliers\n",
    "all_data = all_data[all_data['New_cases'] < 20000]"
   ]
  },
  {
   "cell_type": "code",
   "execution_count": null,
   "id": "9ebaa380-c34f-4f4f-a186-52c48d3bb1c2",
   "metadata": {},
   "outputs": [],
   "source": [
    "#So there are many entries with 0 for New deaths and there are a few outliers as well!\n",
    "plt.scatter(x = all_data['New_deaths'], y = all_data['Yearly_Emission'])\n",
    "plt.ylabel('C02 Emission')\n",
    "plt.xlabel('New death COVID-19 Cases')"
   ]
  },
  {
   "cell_type": "code",
   "execution_count": null,
   "id": "6b4d8a9d-f4ee-4182-8c2e-efcc9e10aab0",
   "metadata": {},
   "outputs": [],
   "source": [
    "# remove New_deaths outliers\n",
    "all_data = all_data[all_data['New_deaths'] < 300]"
   ]
  },
  {
   "cell_type": "code",
   "execution_count": null,
   "id": "21a79ccb-6817-43bf-95e0-102242f7d777",
   "metadata": {},
   "outputs": [],
   "source": [
    "#Let's review the relationship between the columns to examine the correlations between the features and the target.\n",
    "numeric_cols = all_data.select_dtypes(include = [np.number])\n",
    "corr = numeric_cols.corr()\n",
    "print ('Top four Correlated Features with Carbon Emission:'), print (corr['Yearly_Emission'].sort_values(ascending = False)[:4], '\\n')\n",
    "print ('Top three Uncorrelated Features with Carbon Emission:'), print (corr['Yearly_Emission'].sort_values(ascending = False)[-3:])"
   ]
  },
  {
   "cell_type": "markdown",
   "id": "63154ead-04ce-45c9-b063-23ef176b297d",
   "metadata": {},
   "source": [
    "## For GDP per capita"
   ]
  },
  {
   "cell_type": "code",
   "execution_count": 19,
   "id": "ce9e35dc-98aa-47f1-b401-4b5c21464876",
   "metadata": {},
   "outputs": [
    {
     "data": {
      "text/html": [
       "<div>\n",
       "<style scoped>\n",
       "    .dataframe tbody tr th:only-of-type {\n",
       "        vertical-align: middle;\n",
       "    }\n",
       "\n",
       "    .dataframe tbody tr th {\n",
       "        vertical-align: top;\n",
       "    }\n",
       "\n",
       "    .dataframe thead th {\n",
       "        text-align: right;\n",
       "    }\n",
       "</style>\n",
       "<table border=\"1\" class=\"dataframe\">\n",
       "  <thead>\n",
       "    <tr style=\"text-align: right;\">\n",
       "      <th></th>\n",
       "      <th>Year</th>\n",
       "      <th>Country</th>\n",
       "      <th>New_cases</th>\n",
       "      <th>Cumulative_cases</th>\n",
       "      <th>New_deaths</th>\n",
       "      <th>Cumulative_deaths</th>\n",
       "      <th>Region</th>\n",
       "      <th>Yearly_Emission</th>\n",
       "      <th>GDP per capita</th>\n",
       "    </tr>\n",
       "  </thead>\n",
       "  <tbody>\n",
       "    <tr>\n",
       "      <th>0</th>\n",
       "      <td>2020</td>\n",
       "      <td>Albania</td>\n",
       "      <td>159.0</td>\n",
       "      <td>10080.0</td>\n",
       "      <td>3.0</td>\n",
       "      <td>240.0</td>\n",
       "      <td>Central Europe</td>\n",
       "      <td>485.286511</td>\n",
       "      <td>-2.925821</td>\n",
       "    </tr>\n",
       "    <tr>\n",
       "      <th>1</th>\n",
       "      <td>2021</td>\n",
       "      <td>Albania</td>\n",
       "      <td>416.0</td>\n",
       "      <td>139607.0</td>\n",
       "      <td>6.0</td>\n",
       "      <td>2382.0</td>\n",
       "      <td>Central Europe</td>\n",
       "      <td>475.857561</td>\n",
       "      <td>9.554875</td>\n",
       "    </tr>\n",
       "    <tr>\n",
       "      <th>2</th>\n",
       "      <td>2020</td>\n",
       "      <td>Algeria</td>\n",
       "      <td>273.0</td>\n",
       "      <td>28797.0</td>\n",
       "      <td>8.0</td>\n",
       "      <td>1027.0</td>\n",
       "      <td>Northern_Africa</td>\n",
       "      <td>14090.389187</td>\n",
       "      <td>-6.826964</td>\n",
       "    </tr>\n",
       "    <tr>\n",
       "      <th>3</th>\n",
       "      <td>2021</td>\n",
       "      <td>Algeria</td>\n",
       "      <td>325.0</td>\n",
       "      <td>156314.0</td>\n",
       "      <td>10.0</td>\n",
       "      <td>4275.0</td>\n",
       "      <td>Northern_Africa</td>\n",
       "      <td>14426.418662</td>\n",
       "      <td>2.065855</td>\n",
       "    </tr>\n",
       "    <tr>\n",
       "      <th>4</th>\n",
       "      <td>2020</td>\n",
       "      <td>Angola</td>\n",
       "      <td>48.0</td>\n",
       "      <td>3643.0</td>\n",
       "      <td>1.0</td>\n",
       "      <td>100.0</td>\n",
       "      <td>Southern_Africa</td>\n",
       "      <td>4096.093548</td>\n",
       "      <td>-8.493086</td>\n",
       "    </tr>\n",
       "    <tr>\n",
       "      <th>...</th>\n",
       "      <td>...</td>\n",
       "      <td>...</td>\n",
       "      <td>...</td>\n",
       "      <td>...</td>\n",
       "      <td>...</td>\n",
       "      <td>...</td>\n",
       "      <td>...</td>\n",
       "      <td>...</td>\n",
       "      <td>...</td>\n",
       "    </tr>\n",
       "    <tr>\n",
       "      <th>281</th>\n",
       "      <td>2021</td>\n",
       "      <td>Vanuatu</td>\n",
       "      <td>0.0</td>\n",
       "      <td>3.0</td>\n",
       "      <td>0.0</td>\n",
       "      <td>0.0</td>\n",
       "      <td>Oceania</td>\n",
       "      <td>26.969786</td>\n",
       "      <td>-1.806576</td>\n",
       "    </tr>\n",
       "    <tr>\n",
       "      <th>282</th>\n",
       "      <td>2021</td>\n",
       "      <td>Zambia</td>\n",
       "      <td>627.0</td>\n",
       "      <td>143451.0</td>\n",
       "      <td>9.0</td>\n",
       "      <td>2319.0</td>\n",
       "      <td>Southern_Africa</td>\n",
       "      <td>3082.726557</td>\n",
       "      <td>0.634882</td>\n",
       "    </tr>\n",
       "    <tr>\n",
       "      <th>283</th>\n",
       "      <td>2020</td>\n",
       "      <td>Zambia</td>\n",
       "      <td>56.0</td>\n",
       "      <td>6642.0</td>\n",
       "      <td>1.0</td>\n",
       "      <td>146.0</td>\n",
       "      <td>Southern_Africa</td>\n",
       "      <td>3040.577050</td>\n",
       "      <td>-5.550283</td>\n",
       "    </tr>\n",
       "    <tr>\n",
       "      <th>284</th>\n",
       "      <td>2020</td>\n",
       "      <td>Zimbabwe</td>\n",
       "      <td>37.0</td>\n",
       "      <td>3636.0</td>\n",
       "      <td>1.0</td>\n",
       "      <td>102.0</td>\n",
       "      <td>Southern_Africa</td>\n",
       "      <td>3821.497373</td>\n",
       "      <td>-7.620388</td>\n",
       "    </tr>\n",
       "    <tr>\n",
       "      <th>285</th>\n",
       "      <td>2021</td>\n",
       "      <td>Zimbabwe</td>\n",
       "      <td>543.0</td>\n",
       "      <td>81927.0</td>\n",
       "      <td>13.0</td>\n",
       "      <td>2808.0</td>\n",
       "      <td>Southern_Africa</td>\n",
       "      <td>4058.829307</td>\n",
       "      <td>4.241610</td>\n",
       "    </tr>\n",
       "  </tbody>\n",
       "</table>\n",
       "<p>286 rows × 9 columns</p>\n",
       "</div>"
      ],
      "text/plain": [
       "     Year   Country  New_cases  Cumulative_cases  New_deaths  \\\n",
       "0    2020   Albania      159.0           10080.0         3.0   \n",
       "1    2021   Albania      416.0          139607.0         6.0   \n",
       "2    2020   Algeria      273.0           28797.0         8.0   \n",
       "3    2021   Algeria      325.0          156314.0        10.0   \n",
       "4    2020    Angola       48.0            3643.0         1.0   \n",
       "..    ...       ...        ...               ...         ...   \n",
       "281  2021   Vanuatu        0.0               3.0         0.0   \n",
       "282  2021    Zambia      627.0          143451.0         9.0   \n",
       "283  2020    Zambia       56.0            6642.0         1.0   \n",
       "284  2020  Zimbabwe       37.0            3636.0         1.0   \n",
       "285  2021  Zimbabwe      543.0           81927.0        13.0   \n",
       "\n",
       "     Cumulative_deaths           Region  Yearly_Emission  GDP per capita  \n",
       "0                240.0   Central Europe       485.286511       -2.925821  \n",
       "1               2382.0   Central Europe       475.857561        9.554875  \n",
       "2               1027.0  Northern_Africa     14090.389187       -6.826964  \n",
       "3               4275.0  Northern_Africa     14426.418662        2.065855  \n",
       "4                100.0  Southern_Africa      4096.093548       -8.493086  \n",
       "..                 ...              ...              ...             ...  \n",
       "281                0.0          Oceania        26.969786       -1.806576  \n",
       "282             2319.0  Southern_Africa      3082.726557        0.634882  \n",
       "283              146.0  Southern_Africa      3040.577050       -5.550283  \n",
       "284              102.0  Southern_Africa      3821.497373       -7.620388  \n",
       "285             2808.0  Southern_Africa      4058.829307        4.241610  \n",
       "\n",
       "[286 rows x 9 columns]"
      ]
     },
     "execution_count": 19,
     "metadata": {},
     "output_type": "execute_result"
    }
   ],
   "source": [
    "import copy\n",
    "gdp_eda = copy.copy(all_data)\n",
    "gdp_eda"
   ]
  },
  {
   "cell_type": "code",
   "execution_count": 20,
   "id": "b8f14b63-94f9-4b54-a49f-06457ceafba6",
   "metadata": {},
   "outputs": [
    {
     "data": {
      "text/plain": [
       "Text(0.5, 0, 'New death COVID-19 Cases')"
      ]
     },
     "execution_count": 20,
     "metadata": {},
     "output_type": "execute_result"
    },
    {
     "data": {
      "image/png": "[encoded data removed]",
      "text/plain": [
       "<Figure size 432x288 with 1 Axes>"
      ]
     },
     "metadata": {
      "needs_background": "light"
     },
     "output_type": "display_data"
    }
   ],
   "source": [
    "#So there are many entries with 0 for New deaths and there are a few outliers as well!\n",
    "plt.scatter(x = gdp_eda['New_deaths'], y = gdp_eda['GDP per capita'])\n",
    "plt.ylabel('GDP per capita')\n",
    "plt.xlabel('New death COVID-19 Cases')"
   ]
  },
  {
   "cell_type": "code",
   "execution_count": 21,
   "id": "e29ae934-48aa-4ab9-86be-7054ced9ccd7",
   "metadata": {},
   "outputs": [],
   "source": [
    "# remove New_deaths outliers\n",
    "gdp_eda = gdp_eda[gdp_eda['New_deaths'] < 500]"
   ]
  },
  {
   "cell_type": "code",
   "execution_count": 22,
   "id": "57f51443-0d99-4f6f-b454-8da0a2928224",
   "metadata": {},
   "outputs": [
    {
     "data": {
      "text/plain": [
       "Text(0.5, 0, 'New COVID-19 Cases')"
      ]
     },
     "execution_count": 22,
     "metadata": {},
     "output_type": "execute_result"
    },
    {
     "data": {
      "image/png": "[encoded data removed]",
      "text/plain": [
       "<Figure size 432x288 with 1 Axes>"
      ]
     },
     "metadata": {
      "needs_background": "light"
     },
     "output_type": "display_data"
    }
   ],
   "source": [
    "#So there are many entries with 0 for New cases and there are a few outliers as well!\n",
    "plt.scatter(x = gdp_eda['New_cases'], y = gdp_eda['GDP per capita'])\n",
    "plt.ylabel('GDP per capita')\n",
    "plt.xlabel('New COVID-19 Cases')"
   ]
  },
  {
   "cell_type": "code",
   "execution_count": 23,
   "id": "66a63563-afa4-4c21-96b0-9cc612f7814c",
   "metadata": {},
   "outputs": [],
   "source": [
    "# remove New_deaths outliers\n",
    "gdp_eda = gdp_eda[gdp_eda['New_cases'] < 11000]"
   ]
  },
  {
   "cell_type": "code",
   "execution_count": 24,
   "id": "ea1b38b1-d17b-4345-be62-ead8ba87f327",
   "metadata": {},
   "outputs": [
    {
     "name": "stdout",
     "output_type": "stream",
     "text": [
      "Top four Correlated Features with GDP per capita:\n",
      "GDP per capita       1.000000\n",
      "Year                 0.584606\n",
      "Cumulative_cases     0.267920\n",
      "Cumulative_deaths    0.171646\n",
      "Name: GDP per capita, dtype: float64 \n",
      "\n",
      "Top three Uncorrelated Features with GDP per capita:\n",
      "New_cases          0.142881\n",
      "Yearly_Emission    0.064670\n",
      "New_deaths         0.051002\n",
      "Name: GDP per capita, dtype: float64\n"
     ]
    },
    {
     "data": {
      "text/plain": [
       "(None, None)"
      ]
     },
     "execution_count": 24,
     "metadata": {},
     "output_type": "execute_result"
    }
   ],
   "source": [
    "#Let's review the relationship between the columns to examine the correlations between the features and the target.\n",
    "numeric_cols = gdp_eda.select_dtypes(include = [np.number])\n",
    "corr = numeric_cols.corr()\n",
    "print ('Top four Correlated Features with GDP per capita:'), print (corr['GDP per capita'].sort_values(ascending = False)[:4], '\\n')\n",
    "print ('Top three Uncorrelated Features with GDP per capita:'), print (corr['GDP per capita'].sort_values(ascending = False)[-3:])"
   ]
  },
  {
   "cell_type": "markdown",
   "id": "9cdca981-cc2a-44ac-9c37-18064f05a1dc",
   "metadata": {},
   "source": [
    "## Modelling "
   ]
  },
  {
   "cell_type": "markdown",
   "id": "3a37223d-ff81-4284-a06d-52e3d299d8cf",
   "metadata": {},
   "source": [
    "## For carbon Emission"
   ]
  },
  {
   "cell_type": "code",
   "execution_count": 25,
   "id": "54661390-7505-43cc-9c2b-4b57c3b626cd",
   "metadata": {},
   "outputs": [],
   "source": [
    "x_data = all_data[['Cumulative_cases','New_deaths','Cumulative_deaths','New_cases']]\n",
    "y_data = all_data['Yearly_Emission']"
   ]
  },
  {
   "cell_type": "code",
   "execution_count": 26,
   "id": "496a4d85-832e-4805-bd03-80c7878b4079",
   "metadata": {},
   "outputs": [],
   "source": [
    "from sklearn.model_selection import train_test_split\n",
    "x_train, x_test ,y_train, y_test = train_test_split(x_data, y_data, test_size=0.3)"
   ]
  },
  {
   "cell_type": "code",
   "execution_count": 27,
   "id": "4a71fbc7-3493-478a-ae63-6c0cb8c9531b",
   "metadata": {},
   "outputs": [
    {
     "data": {
      "text/plain": [
       "((200, 4), (86, 4), (200,), (86,))"
      ]
     },
     "execution_count": 27,
     "metadata": {},
     "output_type": "execute_result"
    }
   ],
   "source": [
    "x_train.shape, x_test.shape, y_train.shape, y_test.shape"
   ]
  },
  {
   "cell_type": "code",
   "execution_count": 28,
   "id": "907eb7f6-5d23-4bc0-8a57-d42dd0e45776",
   "metadata": {},
   "outputs": [],
   "source": [
    "#linear regression model\n",
    "from sklearn.linear_model import LinearRegression\n",
    "lm = LinearRegression()\n",
    "model = lm.fit(x_train, y_train)"
   ]
  },
  {
   "cell_type": "code",
   "execution_count": 29,
   "id": "38e1b771-a879-417c-9d7b-7eab3a8756f6",
   "metadata": {},
   "outputs": [
    {
     "name": "stdout",
     "output_type": "stream",
     "text": [
      "B0:  13072.496811309104\n",
      "B1:  [-5.97917004e-03  1.02879758e+02 -4.15413215e-01  6.98942087e+00]\n"
     ]
    }
   ],
   "source": [
    "print(\"B0: \", model.intercept_)\n",
    "print(\"B1: \", model.coef_)"
   ]
  },
  {
   "cell_type": "code",
   "execution_count": 30,
   "id": "2d680575-e467-470a-81a5-00d95068f30c",
   "metadata": {},
   "outputs": [],
   "source": [
    "# Model eq: Carbon = 12300.399 + 6.866*New_cases - 3.871*Cumulative_cases - 2.192*New_deaths + 1.499*Cumulative_deaths"
   ]
  },
  {
   "cell_type": "code",
   "execution_count": 31,
   "id": "62439b8c-f8b7-4eb3-bed7-9cd0111387e1",
   "metadata": {},
   "outputs": [
    {
     "name": "stderr",
     "output_type": "stream",
     "text": [
      "C:\\Users\\adedi_tpk1ys1\\anaconda3\\lib\\site-packages\\sklearn\\base.py:450: UserWarning: X does not have valid feature names, but LinearRegression was fitted with feature names\n",
      "  warnings.warn(\n"
     ]
    },
    {
     "data": {
      "text/plain": [
       "array([69526.99069883])"
      ]
     },
     "execution_count": 31,
     "metadata": {},
     "output_type": "execute_result"
    }
   ],
   "source": [
    "test = [[30, 503,45,676]]\n",
    "model.predict(test)"
   ]
  },
  {
   "cell_type": "code",
   "execution_count": 32,
   "id": "0b7946a3-4dcc-4f54-ae94-6f38a647dc9f",
   "metadata": {},
   "outputs": [
    {
     "name": "stdout",
     "output_type": "stream",
     "text": [
      "first 20 Predicted of training:  [ 13184.73692425  13786.84083069  13078.45183577  13578.51448108\n",
      "  13254.39800114  15456.05927334  13541.05647126 121573.03614617\n",
      "  13356.47120655  16219.66800188  52514.93539665  39185.94541767\n",
      "  17008.77131432  17499.86848491  13161.64220843  14686.17996467\n",
      "  18964.14441866  13079.01985692  19738.53112759  13006.57410876]\n",
      "\n",
      "first 20 Original training:  [1.31846746e+03 1.04047925e+03 4.24984068e+03 8.49631476e+02\n",
      " 2.95698973e+01 7.89604969e+03 3.58908872e+02 1.05974186e+05\n",
      " 1.95692024e+02 1.78102836e+03 2.28694217e+04 5.54507981e+03\n",
      " 1.39825277e+03 2.43855950e+03 2.28589152e+02 3.03907418e+03\n",
      " 1.87836964e+03 8.43575320e+01 4.79471389e+04 8.63886140e+02]\n",
      "\n",
      "first 20 Predicted of testing:  [ 13184.73692425  13786.84083069  13078.45183577  13578.51448108\n",
      "  13254.39800114  15456.05927334  13541.05647126 121573.03614617\n",
      "  13356.47120655  16219.66800188  52514.93539665  39185.94541767\n",
      "  17008.77131432  17499.86848491  13161.64220843  14686.17996467\n",
      "  18964.14441866  13079.01985692  19738.53112759  13006.57410876]\n",
      "\n",
      "first 20 Original testing:  [1.81481212e+04 2.02908524e+03 1.94589415e+04 7.69367436e+02\n",
      " 6.27039445e+04 3.82401810e+01 3.08272656e+03 2.12364844e+03\n",
      " 1.66112836e+03 1.79122518e+03 6.37647929e+03 3.60274009e+03\n",
      " 1.99203902e+03 8.14317069e+03 9.24299904e+04 4.05166504e+04\n",
      " 1.41442065e+03 1.05853290e+04 5.01253869e+03 1.27530024e+03]\n"
     ]
    }
   ],
   "source": [
    "from sklearn.metrics import accuracy_score\n",
    "#compute training accuracy\n",
    "x_predicted = model.predict(x_train)\n",
    "print(\"first 20 Predicted of training: \", x_predicted[:20])\n",
    "print()\n",
    "print(\"first 20 Original training: \", y_train[:20].values)\n",
    "print()\n",
    "\n",
    "y_predicted = model.predict(x_test)\n",
    "print(\"first 20 Predicted of testing: \", x_predicted[:20])\n",
    "print()\n",
    "print(\"first 20 Original testing: \", y_test[:20].values)"
   ]
  },
  {
   "cell_type": "code",
   "execution_count": 33,
   "id": "6d692ead-5f10-4632-a46f-a8a921d2c7bb",
   "metadata": {},
   "outputs": [
    {
     "name": "stdout",
     "output_type": "stream",
     "text": [
      "Model accuracy on training data:  -13.756757931742658\n",
      "Model accuracy on testing data:  -0.0681841861187169\n"
     ]
    }
   ],
   "source": [
    "#Training accuracy\n",
    "from sklearn.metrics import r2_score\n",
    "\n",
    "print(\"Model accuracy on training data: \", r2_score(x_predicted, y_train.values))\n",
    "# Test accuracy\n",
    "test_pred = model.predict(x_test)\n",
    "print(\"Model accuracy on testing data: \", r2_score(test_pred, y_test.values))"
   ]
  },
  {
   "cell_type": "code",
   "execution_count": 34,
   "id": "6453226d-adef-4135-88c5-c2bb26276d3f",
   "metadata": {},
   "outputs": [
    {
     "data": {
      "text/plain": [
       "22155.340898221308"
      ]
     },
     "execution_count": 34,
     "metadata": {},
     "output_type": "execute_result"
    }
   ],
   "source": [
    "from sklearn.metrics import mean_squared_error\n",
    "mse = mean_squared_error(y_test,y_predicted)\n",
    "rmse = np.sqrt(mse)\n",
    "rmse\n"
   ]
  },
  {
   "cell_type": "markdown",
   "id": "41e7f2d3-4384-4417-a27a-0fd800720356",
   "metadata": {},
   "source": [
    "## Model cross validation"
   ]
  },
  {
   "cell_type": "code",
   "execution_count": 35,
   "id": "59f87a20-a867-4859-8b99-9b2100bffcdd",
   "metadata": {},
   "outputs": [],
   "source": [
    "model1 = lm.fit(x_train, y_train) "
   ]
  },
  {
   "cell_type": "code",
   "execution_count": 36,
   "id": "f87c8b7c-c910-48c0-b885-3612745eaf13",
   "metadata": {},
   "outputs": [],
   "source": [
    "from sklearn.model_selection import cross_val_score\n",
    "scores = cross_val_score(lm, x_data, y_data, cv = 5)"
   ]
  },
  {
   "cell_type": "code",
   "execution_count": 37,
   "id": "c4a78ea3-fe9f-4b88-b630-e18e7bc01d1d",
   "metadata": {},
   "outputs": [
    {
     "name": "stdout",
     "output_type": "stream",
     "text": [
      "Mean model accuracy:  0.1495301456176777\n"
     ]
    }
   ],
   "source": [
    "print(\"Mean model accuracy: \", scores.mean())"
   ]
  },
  {
   "cell_type": "code",
   "execution_count": 38,
   "id": "3be60ddf-05ee-47d2-ba79-3e80300047b7",
   "metadata": {},
   "outputs": [],
   "source": [
    "x1 = x_data['Cumulative_cases']\n",
    "x_lst = []\n",
    "for i in x1:\n",
    "  x_lst.append([i])\n",
    "x_lst\n",
    "\n",
    "\n",
    "lm1 = LinearRegression()\n",
    "model2 = lm1.fit(x_lst, y_data)\n",
    "pred = model2.predict(x_lst)"
   ]
  },
  {
   "cell_type": "code",
   "execution_count": 39,
   "id": "27e631cd-1556-4b07-896b-06ce95f61969",
   "metadata": {},
   "outputs": [
    {
     "data": {
      "text/plain": [
       "array([ 14588.08397868,  15947.61193683,  14784.53942652,  16122.97022967,\n",
       "        14520.52060219,  14905.84281973,  14482.93407878,  14501.95300657,\n",
       "        56801.87473786,  18995.37412338,  16962.28013144,  14901.91727945,\n",
       "        14627.71724101,  15278.11838869,  15110.03389108,  21619.59780315,\n",
       "        14843.08665568,  18423.0639375 ,  14852.54363909,  16767.75596545,\n",
       "        25624.93991263,  16466.43401232,  14483.5743407 ,  14564.96107695,\n",
       "        15066.06574068,  19030.25265376,  16066.42775505,  26347.59619216,\n",
       "        14498.321357  ,  14661.1787983 ,  14615.74119432,  14495.56088349,\n",
       "        14483.75277434,  14513.19432647,  16596.39668557,  14711.32914984,\n",
       "        15557.71342099,  14509.04836815, 192079.33067896,  39732.36605194,\n",
       "        14523.56447033,  14483.46937973,  14796.44200054,  19036.58180026,\n",
       "        14623.00449345,  14496.32709857,  14485.13825915,  14581.99624241,\n",
       "        14484.09914555,  15078.16774054,  15265.68051372,  14604.95120658,\n",
       "        28454.9080861 ,  15825.15397295,  14514.43286592,  14584.17943059,\n",
       "        14490.2498584 ,  14531.36307041,  17108.09191118,  28722.81046633,\n",
       "        15305.68113945,  15685.48240996,  18867.41620466,  54140.49487466,\n",
       "        14522.13700113,  14484.63444649,  18374.22559809,  14891.8935068 ,\n",
       "        18394.27314339,  14762.30869304,  15374.46206319,  14510.74873587,\n",
       "        17821.91047702,  14750.31165416,  14593.56294132,  14516.76299946,\n",
       "        14482.54572319,  14500.05321301,  17743.04280405,  15087.66670834,\n",
       "        15290.3673339 ,  18902.27374285,  14636.62842738,  15360.90110585,\n",
       "        14511.6933846 ,  14579.07832744,  15874.2337226 ,  14521.46525092,\n",
       "        14848.96447001,  17315.80967112,  14713.55432241,  14482.5037388 ,\n",
       "        15647.60199583,  14577.39895192,  73245.80554555,  20254.54889797,\n",
       "        14741.64187802,  14531.33158212,  19367.072407  ,  14749.66089614,\n",
       "        54112.32335027,  17824.18813008,  14734.25262572,  15565.98434544,\n",
       "        19574.96860059,  14708.31677   ,  14501.22877588,  14482.5142349 ,\n",
       "        18250.82298547,  14953.24319386,  14736.05795441,  14543.82193757,\n",
       "        14496.30610638,  14529.89361683,  14497.74407167,  14702.86929564,\n",
       "        14670.99264901,  14531.18463676,  17300.4014007 ,  14891.14828391,\n",
       "        14930.69757747,  22424.85836619,  14505.44820688,  14582.41608629,\n",
       "        45452.09866358, 278769.53483881,  42888.74185041,  16228.94932124,\n",
       "        16328.44182485,  29183.12729705,  17920.4583319 ,  14783.61576999,\n",
       "        24635.29441331,  15667.55507626,  57215.57840174,  18784.33959678,\n",
       "        14514.98915906,  15060.80719607,  24970.95959587,  15006.87824961,\n",
       "        14880.20085472,  21852.49569983,  15222.65701206,  20855.27201847,\n",
       "        14735.7220793 ,  16441.516278  ,  15988.09538302,  14526.07303751,\n",
       "        20007.06142643,  14795.93818788,  14632.82884026,  14489.93497549,\n",
       "        14523.87935324,  14490.40729985,  14625.00924798,  17587.67957602,\n",
       "        15224.54630952,  14576.44380709,  14863.7534707 ,  14560.41626695,\n",
       "        14510.47583735,  14944.06960507,  14660.86391539,  26939.08274729,\n",
       "        15101.66850176,  14533.56725078,  14503.28601089,  14623.5397944 ,\n",
       "        14509.2268018 ,  14812.65847043,  14753.52345984,  14525.83162728,\n",
       "        14672.54607137,  14485.3166928 ,  44561.00101914,  19128.68505158,\n",
       "        16760.00984585,  14484.89684892,  15384.56980462,  21508.60157721,\n",
       "        14528.79152664,  15530.88539702,  17456.76175795,  14674.50884151,\n",
       "        14534.53289171,  15385.71387919,  15094.8460387 ,  20442.2506009 ,\n",
       "        15910.26682365,  32592.22811946,  14524.13125956,  14493.12578898,\n",
       "        14504.6505035 ,  14566.99731978,  14540.68360456,  14491.76129637,\n",
       "        14803.64232309,  16326.97237127,  16042.94798603,  14609.32807904,\n",
       "        24441.84084922,  16388.58446075,  18716.99663833,  15124.90686055,\n",
       "        14484.69742308,  14651.29147491,  14712.31578296,  18106.22875299,\n",
       "        34011.2584516 ,  18610.83911311,  31068.99253615,  16012.05797251,\n",
       "        42622.48735741,  16489.13707016,  15266.02688492,  24057.07492481,\n",
       "        15242.73604565,  16683.98661516,  26526.55464628,  15670.11612393,\n",
       "        79204.03047358,  23013.87833852,  15058.37210157,  14506.14094928,\n",
       "        14482.29381686,  14482.28332076,  14487.86724437,  14509.09035254,\n",
       "        19439.8733359 ,  16341.34152809,  14562.55747074,  15032.35227706,\n",
       "        14622.61613786,  14483.10201633,  14495.12004741,  14536.14929065,\n",
       "        14840.99793237,  15553.67242364,  14640.79537789,  17277.00560045,\n",
       "        14482.48274661,  14482.31480905,  14639.09501018,  14505.63713662,\n",
       "        17992.68197547,  37288.95863546,  57349.88645915,  20031.48584419,\n",
       "        14543.80094537,  17544.44615241,  14861.33936839,  14568.36181239,\n",
       "        14742.70198382,  14503.74783916,  15341.32588492,  24826.90066433,\n",
       "        15329.82216259,  22215.15684392,  14539.92788557,  14642.67417926,\n",
       "        22515.2192654 ,  14510.24492321,  14482.48274661,  14584.09546181,\n",
       "        14651.73231098,  14493.18876556,  14502.01598315,  14832.14972259,\n",
       "        19394.32027485,  14701.79869375,  14485.11726696,  14507.86230919,\n",
       "        14539.05670952,  15332.36221806,  37700.80449017,  16360.42343246,\n",
       "        17304.42140586,  14503.17055382,  14760.42989168,  15815.8439349 ,\n",
       "        14482.28332076,  14482.31480905,  15987.95893376,  14551.99839714,\n",
       "        14520.44712951,  15342.19706097])"
      ]
     },
     "execution_count": 39,
     "metadata": {},
     "output_type": "execute_result"
    }
   ],
   "source": [
    "pred"
   ]
  },
  {
   "cell_type": "code",
   "execution_count": 40,
   "id": "bb682cdf-ee8f-4952-9001-f2e0c91f8ae6",
   "metadata": {},
   "outputs": [
    {
     "data": {
      "text/plain": [
       "Text(0.5, 1.0, 'CO2 vs Cumulative Cases')"
      ]
     },
     "execution_count": 40,
     "metadata": {},
     "output_type": "execute_result"
    },
    {
     "data": {
      "image/png": "[encoded data removed]",
      "text/plain": [
       "<Figure size 1008x576 with 1 Axes>"
      ]
     },
     "metadata": {
      "needs_background": "light"
     },
     "output_type": "display_data"
    }
   ],
   "source": [
    "import matplotlib.pyplot as plt\n",
    "plt.figure(figsize=(14, 8))\n",
    "plt.plot(x1, y_data, 'o')\n",
    "plt.plot(x1,pred, 'r') # shows the model line\n",
    "plt.xlabel(\"Cumulative Cases\")\n",
    "plt.ylabel(\"CO2 Emission\")\n",
    "plt.title(\"CO2 vs Cumulative Cases\")"
   ]
  },
  {
   "cell_type": "code",
   "execution_count": 41,
   "id": "3441c860-3132-46a3-b397-ffd715e03d08",
   "metadata": {},
   "outputs": [],
   "source": [
    "x2 = x_data['New_deaths']\n",
    "x_lst = []\n",
    "for i in x2:\n",
    "  x_lst.append([i])\n",
    "x_lst\n",
    "\n",
    "\n",
    "lm1 = LinearRegression()\n",
    "model2 = lm1.fit(x_lst, y_data)\n",
    "pred = model2.predict(x_lst)"
   ]
  },
  {
   "cell_type": "code",
   "execution_count": 42,
   "id": "3b1e3995-699e-4f77-8d8b-65d6df0e9548",
   "metadata": {},
   "outputs": [
    {
     "data": {
      "text/plain": [
       "array([ 13182.83457712,  13718.37158256,  14075.39625285,  14432.42092314,\n",
       "        12825.80990683,  13361.34691227,  12647.29757169,  12647.29757169,\n",
       "        46921.6659195 ,  36389.43814595,  15146.47026372,  14075.39625285,\n",
       "        13004.32224198,  13361.34691227,  16396.05660973,  17110.10595031,\n",
       "        13896.8839177 ,  15503.49493401,  12825.80990683,  13182.83457712,\n",
       "        22643.9883398 ,  16396.05660973,  12647.29757169,  12825.80990683,\n",
       "        13361.34691227,  14610.93325828,  22286.96366951,  16931.59361516,\n",
       "        12825.80990683,  12825.80990683,  12647.29757169,  12647.29757169,\n",
       "        12647.29757169,  12647.29757169,  17288.61828545,  14610.93325828,\n",
       "        13896.8839177 ,  12647.29757169, 220971.19268572, 107080.32286331,\n",
       "        12647.29757169,  12647.29757169,  16396.05660973,  24072.08702096,\n",
       "        12825.80990683,  12647.29757169,  12647.29757169,  12647.29757169,\n",
       "        12647.29757169,  14075.39625285,  13361.34691227,  12825.80990683,\n",
       "        19787.79097748,  20144.81564777,  12647.29757169,  12647.29757169,\n",
       "        12647.29757169,  12647.29757169,  20680.35265321,  23715.06235067,\n",
       "        14967.95792857,  13004.32224198,  33533.24078363,  55311.74567131,\n",
       "        12647.29757169,  12647.29757169,  15146.47026372,  13718.37158256,\n",
       "        16931.59361516,  14610.93325828,  12825.80990683,  12647.29757169,\n",
       "        13539.85924741,  13361.34691227,  12647.29757169,  12647.29757169,\n",
       "        12647.29757169,  12647.29757169,  13539.85924741,  13896.8839177 ,\n",
       "        19609.27864234,  22286.96366951,  13361.34691227,  13896.8839177 ,\n",
       "        12647.29757169,  12647.29757169,  13539.85924741,  12825.80990683,\n",
       "        13539.85924741,  15146.47026372,  13004.32224198,  12647.29757169,\n",
       "        13182.83457712,  13004.32224198,  40495.22185428,  44065.46855718,\n",
       "        12825.80990683,  12647.29757169,  18181.17996118,  13896.8839177 ,\n",
       "        45850.59190863,  37281.99982168,  12825.80990683,  13182.83457712,\n",
       "        20501.84031806,  14967.95792857,  12825.80990683,  12647.29757169,\n",
       "        18181.17996118,  14967.95792857,  12825.80990683,  12647.29757169,\n",
       "        12647.29757169,  12647.29757169,  12647.29757169,  13004.32224198,\n",
       "        12825.80990683,  12825.80990683,  16217.54427459,  14253.90858799,\n",
       "        17288.61828545,  27106.79671842,  12647.29757169,  12647.29757169,\n",
       "        85658.84264593, 175272.03488864,  72270.41751007,  23536.55001552,\n",
       "        18895.22930176,  18181.17996118,  14432.42092314,  13718.37158256,\n",
       "        14967.95792857,  14253.90858799,  43708.44388689,  48706.78927095,\n",
       "        12825.80990683,  13718.37158256,  19966.30331263,  14253.90858799,\n",
       "        14432.42092314,  16931.59361516,  14075.39625285,  20144.81564777,\n",
       "        13539.85924741,  14432.42092314,  14610.93325828,  13004.32224198,\n",
       "        16396.05660973,  13361.34691227,  13004.32224198,  12647.29757169,\n",
       "        12825.80990683,  12647.29757169,  13539.85924741,  15324.98259886,\n",
       "        12825.80990683,  12825.80990683,  13004.32224198,  12825.80990683,\n",
       "        12825.80990683,  13718.37158256,  12825.80990683,  27820.846059  ,\n",
       "        12825.80990683,  12647.29757169,  12825.80990683,  12825.80990683,\n",
       "        12825.80990683,  12825.80990683,  12825.80990683,  12825.80990683,\n",
       "        13004.32224198,  12647.29757169,  89050.57701368,  85123.30564049,\n",
       "        13539.85924741,  12647.29757169,  16217.54427459,  16396.05660973,\n",
       "        12647.29757169,  13539.85924741,  20680.35265321,  13896.8839177 ,\n",
       "        12825.80990683,  14253.90858799,  14075.39625285,  16931.59361516,\n",
       "        18181.17996118,  17288.61828545,  12647.29757169,  12647.29757169,\n",
       "        12647.29757169,  12647.29757169,  12647.29757169,  12647.29757169,\n",
       "        13361.34691227,  13539.85924741,  13182.83457712,  12825.80990683,\n",
       "        21929.93899922,  17645.64295574,  14432.42092314,  14610.93325828,\n",
       "        12647.29757169,  13004.32224198,  13718.37158256,  19609.27864234,\n",
       "        66200.99811514,  58346.45536877,  33176.21611335,  17110.10595031,\n",
       "        46029.10424377,  26749.77204813,  16039.03193944,  18538.20463147,\n",
       "        12825.80990683,  12825.80990683,  33711.75311878,  20323.32798292,\n",
       "       135820.80882163,  40673.73418943,  13182.83457712,  12647.29757169,\n",
       "        12647.29757169,  12647.29757169,  12647.29757169,  12647.29757169,\n",
       "        13896.8839177 ,  15682.00726915,  12825.80990683,  13361.34691227,\n",
       "        12647.29757169,  12647.29757169,  12647.29757169,  12647.29757169,\n",
       "        12647.29757169,  13004.32224198,  14075.39625285,  14253.90858799,\n",
       "        12647.29757169,  12647.29757169,  13182.83457712,  12647.29757169,\n",
       "        26392.74737784,  43529.93155175,  30855.55575646,  39424.14784341,\n",
       "        12825.80990683,  19787.79097748,  13539.85924741,  13361.34691227,\n",
       "        13182.83457712,  12647.29757169,  17467.1306206 ,  15503.49493401,\n",
       "        16396.05660973,  14789.44559343,  12647.29757169,  12647.29757169,\n",
       "        23179.52534523,  12647.29757169,  12647.29757169,  12647.29757169,\n",
       "        12647.29757169,  12647.29757169,  12647.29757169,  13896.8839177 ,\n",
       "        22822.50067494,  14967.95792857,  12647.29757169,  12647.29757169,\n",
       "        12825.80990683,  14075.39625285,  50491.91262239,  21751.42666408,\n",
       "        15503.49493401,  12647.29757169,  13004.32224198,  13004.32224198,\n",
       "        12647.29757169,  12647.29757169,  14253.90858799,  12825.80990683,\n",
       "        12825.80990683,  14967.95792857])"
      ]
     },
     "execution_count": 42,
     "metadata": {},
     "output_type": "execute_result"
    }
   ],
   "source": [
    "pred"
   ]
  },
  {
   "cell_type": "code",
   "execution_count": 43,
   "id": "321c1581-e1b5-4734-8f33-dde46e6ba043",
   "metadata": {},
   "outputs": [
    {
     "data": {
      "text/plain": [
       "Text(0.5, 1.0, 'CO2 vs New deaths')"
      ]
     },
     "execution_count": 43,
     "metadata": {},
     "output_type": "execute_result"
    },
    {
     "data": {
      "image/png": "[encoded data removed]",
      "text/plain": [
       "<Figure size 720x720 with 1 Axes>"
      ]
     },
     "metadata": {
      "needs_background": "light"
     },
     "output_type": "display_data"
    }
   ],
   "source": [
    "\n",
    "plt.figure(figsize=(10, 10))\n",
    "plt.plot(x2, y_data, 'o')\n",
    "plt.plot(x2,pred, 'r') # shows the model line\n",
    "plt.xlabel(\"New COVID-19 death Cases\")\n",
    "plt.ylabel(\"CO2 Emission\")\n",
    "plt.title(\"CO2 vs New deaths\")"
   ]
  },
  {
   "cell_type": "markdown",
   "id": "f6a0e55a-5e51-418f-94eb-9d2b148bae0c",
   "metadata": {},
   "source": [
    "## For GDP per capita"
   ]
  },
  {
   "cell_type": "code",
   "execution_count": 44,
   "id": "75254d07-1449-4f57-ac73-16203bf08b63",
   "metadata": {},
   "outputs": [],
   "source": [
    "x_data = gdp_eda[['Cumulative_cases','New_deaths','Cumulative_deaths','New_cases']]\n",
    "y_data = gdp_eda['GDP per capita']"
   ]
  },
  {
   "cell_type": "code",
   "execution_count": 45,
   "id": "18658ac1-b783-4224-b5aa-2684d1e6f599",
   "metadata": {},
   "outputs": [
    {
     "data": {
      "text/plain": [
       "((221, 4), (56, 4), (221,), (56,))"
      ]
     },
     "execution_count": 45,
     "metadata": {},
     "output_type": "execute_result"
    }
   ],
   "source": [
    "#Split data into train and test set\n",
    "from sklearn.model_selection import train_test_split\n",
    "x_train, x_test, y_train, y_test = train_test_split(x_data, y_data, test_size=0.2)\n",
    "x_train.shape, x_test.shape, y_train.shape, y_test.shape"
   ]
  },
  {
   "cell_type": "code",
   "execution_count": 46,
   "id": "d8d7519c-0f4b-47ed-8714-cf2ed4699cd9",
   "metadata": {},
   "outputs": [],
   "source": [
    "#linear regression model\n",
    "from sklearn.linear_model import LinearRegression \n",
    "lm = LinearRegression() #lm is an instance of LinearRegression class\n",
    "model = lm.fit(x_train, y_train) #training"
   ]
  },
  {
   "cell_type": "code",
   "execution_count": 47,
   "id": "e82b690b-c770-4bf9-a9ed-0f0ac5a23b43",
   "metadata": {},
   "outputs": [
    {
     "name": "stdout",
     "output_type": "stream",
     "text": [
      "B0:  -1.642897491294748\n",
      "B1:  [ 9.03583969e-06 -1.98214926e-02 -3.39509121e-05 -9.53511685e-04]\n"
     ]
    }
   ],
   "source": [
    "print(\"B0: \", model.intercept_)\n",
    "print(\"B1: \", model.coef_)"
   ]
  },
  {
   "cell_type": "code",
   "execution_count": 48,
   "id": "041085c1-496b-4c7e-a18f-838358749199",
   "metadata": {},
   "outputs": [],
   "source": [
    "# Model eq: Sales = 4.68 + 0.054*TV + 0.108*Radio"
   ]
  },
  {
   "cell_type": "code",
   "execution_count": 51,
   "id": "0ac4494a-60a8-4d90-ac0b-e45c31957155",
   "metadata": {},
   "outputs": [
    {
     "name": "stderr",
     "output_type": "stream",
     "text": [
      "C:\\Users\\adedi_tpk1ys1\\anaconda3\\lib\\site-packages\\sklearn\\base.py:450: UserWarning: X does not have valid feature names, but LinearRegression was fitted with feature names\n",
      "  warnings.warn(\n"
     ]
    },
    {
     "data": {
      "text/plain": [
       "array([-2.97949395])"
      ]
     },
     "execution_count": 51,
     "metadata": {},
     "output_type": "execute_result"
    }
   ],
   "source": [
    "test = [[300, 50, 34, 364]]\n",
    "model.predict(test)"
   ]
  },
  {
   "cell_type": "code",
   "execution_count": 52,
   "id": "6be42f91-355c-49a8-b496-cdbf9c1585d4",
   "metadata": {},
   "outputs": [
    {
     "name": "stdout",
     "output_type": "stream",
     "text": [
      "first 20 Predicted:  [-1.93769348 -1.73903019 -1.65830213 -1.68869369 -1.77103728 -1.6105757\n",
      " -1.64289749 -1.63555899 -1.64349874  1.91912841 -1.58574361 -1.62734209\n",
      "  0.9232584   1.19526793 -1.64314621  0.09262546 -2.72196417 -1.88104315\n",
      " -1.74003135 -2.00416726]\n",
      "\n",
      "first 20 Original:  [  1.34724293  -0.47944619 -10.58640629  -1.30000015  -2.92582096\n",
      "  -0.13231599  -3.23647581 -34.67909528   0.38917687   1.55402718\n",
      "  -4.1499469    1.7566114   13.57705682   4.02415373  -8.50793631\n",
      "   1.84187612  -3.64307959  -7.57206053  -7.65706091  -0.15915919]\n"
     ]
    }
   ],
   "source": [
    "#compute training accuracy\n",
    "train_pred = model.predict(x_train)\n",
    "print(\"first 20 Predicted: \", train_pred[:20])\n",
    "print()\n",
    "print(\"first 20 Original: \", y_train[:20].values)\n"
   ]
  },
  {
   "cell_type": "code",
   "execution_count": 53,
   "id": "498c6f4f-f014-4b1b-8c58-ead494cf4cd1",
   "metadata": {},
   "outputs": [
    {
     "name": "stdout",
     "output_type": "stream",
     "text": [
      "Model accuracy on training data:  -6.008038868252865\n",
      "Model accuracy on test data:  -16.30202325624778\n"
     ]
    }
   ],
   "source": [
    "#Training and Test accuracy\n",
    "from sklearn.metrics import r2_score\n",
    "\n",
    "test_pred = model.predict(x_test)\n",
    "print(\"Model accuracy on training data: \", r2_score(train_pred, y_train.values))\n",
    "print(\"Model accuracy on test data: \", r2_score(test_pred, y_test.values))"
   ]
  },
  {
   "cell_type": "code",
   "execution_count": 54,
   "id": "ee258660-066e-4556-8a2d-5bbb122c2fdc",
   "metadata": {},
   "outputs": [],
   "source": [
    "model1 = lm.fit(x_train, y_train) #training"
   ]
  },
  {
   "cell_type": "code",
   "execution_count": 55,
   "id": "648c53cc-f448-4296-8dab-c251a5b685b5",
   "metadata": {},
   "outputs": [],
   "source": [
    "from sklearn.model_selection import cross_val_score\n",
    "scores = cross_val_score(lm, x_data, y_data, cv = 5)"
   ]
  },
  {
   "cell_type": "code",
   "execution_count": 56,
   "id": "5b5fe825-f14e-4b3b-a32c-83f21f23f2a4",
   "metadata": {},
   "outputs": [
    {
     "name": "stdout",
     "output_type": "stream",
     "text": [
      "Mean model accuracy:  -0.07521337714268402\n"
     ]
    }
   ],
   "source": [
    "print(\"Mean model accuracy: \", scores.mean())"
   ]
  },
  {
   "cell_type": "code",
   "execution_count": 57,
   "id": "c1a5bd98-8d58-4b1a-9e4b-2c4d469e8909",
   "metadata": {},
   "outputs": [],
   "source": [
    "x1 = x_data['Cumulative_cases']\n",
    "x_lst = []\n",
    "for i in x1:\n",
    "  x_lst.append([i])\n",
    "x_lst\n",
    "\n",
    "\n",
    "lm1 = LinearRegression()\n",
    "model2 = lm1.fit(x_lst, y_data)\n",
    "pred = model2.predict(x_lst)\n"
   ]
  },
  {
   "cell_type": "code",
   "execution_count": 58,
   "id": "c5566e17-d176-47e2-8e30-414c9ed05166",
   "metadata": {},
   "outputs": [
    {
     "data": {
      "text/plain": [
       "array([-1.97017303e+00, -1.47511365e+00, -1.89863562e+00, -1.41125857e+00,\n",
       "       -1.99477560e+00, -1.85446412e+00, -2.00846238e+00, -2.00153682e+00,\n",
       "       -3.65299564e-01, -1.10563172e+00, -1.85589357e+00, -1.95574095e+00,\n",
       "       -1.71890346e+00, -1.78010986e+00,  5.90286935e-01, -1.87731619e+00,\n",
       "       -5.73700963e-01, -1.87387252e+00, -1.17646587e+00,  2.04879479e+00,\n",
       "       -1.28618944e+00, -2.00822924e+00, -1.97859302e+00, -1.79612045e+00,\n",
       "       -3.52598873e-01, -1.43184798e+00,  2.31194331e+00, -2.00285925e+00,\n",
       "       -1.94355624e+00, -1.96010192e+00, -2.00386445e+00, -2.00816426e+00,\n",
       "       -1.99744340e+00, -1.23886475e+00, -1.92529446e+00, -1.61709154e+00,\n",
       "       -1.99895311e+00, -1.99366721e+00, -2.00826746e+00, -1.89430141e+00,\n",
       "       -3.50294174e-01, -1.95745705e+00, -2.00358544e+00, -2.00765975e+00,\n",
       "       -1.97238982e+00, -2.00803814e+00, -1.79171362e+00, -1.72343259e+00,\n",
       "       -1.96403099e+00,  3.07930122e+00, -1.51970557e+00, -1.99699240e+00,\n",
       "       -1.97159484e+00, -2.00579841e+00, -1.99082742e+00, -1.05253572e+00,\n",
       "        3.17685536e+00, -1.70886674e+00, -1.57056566e+00, -4.11894243e-01,\n",
       "        1.24324673e+01, -1.99418701e+00, -2.00784321e+00, -5.91484987e-01,\n",
       "       -1.85954363e+00, -5.84184861e-01, -1.90673073e+00, -1.68382081e+00,\n",
       "       -1.99833394e+00, -7.92605371e-01, -1.91109934e+00, -1.96817792e+00,\n",
       "       -1.99614390e+00, -2.00860380e+00, -2.00222861e+00, -8.21324296e-01,\n",
       "       -1.78825466e+00, -1.71444312e+00, -3.99201196e-01, -1.95249603e+00,\n",
       "       -1.68875891e+00, -1.99798995e+00, -1.97345236e+00, -1.50183364e+00,\n",
       "       -1.99443162e+00, -1.87517584e+00, -9.76897244e-01, -1.92448418e+00,\n",
       "       -2.00861909e+00, -1.58435946e+00, -1.97406388e+00,  9.32171486e-02,\n",
       "       -1.91425636e+00, -1.99083889e+00, -2.29949112e-01, -1.91133631e+00,\n",
       "       -7.91775985e-01, -1.91694709e+00, -1.61407976e+00, -1.54245658e-01,\n",
       "       -1.92639139e+00, -2.00180054e+00, -2.00861527e+00, -6.36420894e-01,\n",
       "       -1.83720372e+00, -1.91628969e+00, -1.98629064e+00, -2.00359309e+00,\n",
       "       -1.99136251e+00, -2.00306946e+00, -1.92837503e+00, -1.93998262e+00,\n",
       "       -1.99089239e+00, -9.82508021e-01, -1.85981500e+00, -1.84541350e+00,\n",
       "        8.83515034e-01, -2.00026407e+00, -1.97223694e+00,  8.33524673e+00,\n",
       "       -1.37266727e+00, -1.33643801e+00,  3.34447543e+00, -7.56720091e-01,\n",
       "       -1.89897196e+00,  1.68842464e+00, -1.57709373e+00,  1.35522302e+01,\n",
       "       -4.42145812e-01, -1.99678983e+00, -1.79803530e+00,  1.81065397e+00,\n",
       "       -1.81767302e+00, -1.86380140e+00,  6.75094525e-01, -1.73909920e+00,\n",
       "        3.11964852e-01, -1.91641200e+00, -1.29526300e+00, -1.46037198e+00,\n",
       "       -1.99275374e+00,  3.09690154e-03, -1.89448487e+00, -1.95387961e+00,\n",
       "       -2.00591307e+00, -1.99355255e+00, -2.00574108e+00, -1.95672704e+00,\n",
       "       -8.77898362e-01, -1.73841123e+00, -1.97441169e+00, -1.86979057e+00,\n",
       "       -1.98024797e+00, -1.99843331e+00, -1.84054420e+00, -1.94367090e+00,\n",
       "        2.52732760e+00, -1.78315603e+00, -1.99002479e+00, -2.00105142e+00,\n",
       "       -1.95726213e+00, -1.99888813e+00, -1.88839633e+00, -1.90992979e+00,\n",
       "       -1.99284164e+00, -1.93941695e+00, -2.00759478e+00,  8.94418426e+00,\n",
       "       -3.16755637e-01, -1.17928655e+00, -2.00774766e+00, -1.68014017e+00,\n",
       "        5.49868698e-01, -1.99176382e+00, -1.62686072e+00, -9.25570860e-01,\n",
       "       -1.93870223e+00, -1.98967316e+00, -1.67972357e+00, -1.78564037e+00,\n",
       "        1.61566967e-01, -1.48871252e+00,  4.58586760e+00, -1.99346082e+00,\n",
       "       -2.00475117e+00, -2.00055455e+00, -1.97785154e+00, -1.98743343e+00,\n",
       "       -2.00524804e+00, -1.89167948e+00, -1.33697309e+00, -1.44039792e+00,\n",
       "       -1.96243719e+00,  1.61798033e+00, -1.31453763e+00, -4.66668120e-01,\n",
       "       -1.77469400e+00, -2.00782028e+00, -1.94715661e+00, -1.92493518e+00,\n",
       "       -6.89073531e-01,  5.10259421e+00, -5.05324390e-01,  4.03119561e+00,\n",
       "       -1.45164623e+00,  8.23829265e+00, -1.27792234e+00, -1.72330647e+00,\n",
       "        1.47787142e+00, -1.73178761e+00, -1.20696970e+00,  2.37710936e+00,\n",
       "       -1.57616115e+00,  1.09800115e+00, -1.79892201e+00, -2.00001182e+00,\n",
       "       -2.00869553e+00, -2.00869935e+00, -2.00666602e+00, -1.99893782e+00,\n",
       "       -2.03439335e-01, -1.33174070e+00, -1.97946827e+00, -1.80839689e+00,\n",
       "       -1.95759847e+00, -2.00840123e+00, -2.00402498e+00, -1.98908456e+00,\n",
       "       -1.87807678e+00, -1.61856303e+00, -1.95097867e+00, -9.91027383e-01,\n",
       "       -2.00862673e+00, -2.00868789e+00, -1.95159784e+00, -2.00019528e+00,\n",
       "       -7.30420527e-01,  6.29613807e+00,  1.19908247e-02, -1.98629828e+00,\n",
       "       -8.93641408e-01, -1.87066964e+00, -1.97735467e+00, -1.91387033e+00,\n",
       "       -2.00088325e+00, -1.69588704e+00,  1.75819626e+00, -1.70007601e+00,\n",
       "        8.07154187e-01, -1.98770862e+00, -1.95029452e+00,  9.16419110e-01,\n",
       "       -1.99851740e+00, -2.00862673e+00, -1.97162541e+00, -1.94699609e+00,\n",
       "       -2.00472824e+00, -2.00151389e+00, -1.88129877e+00, -2.20027056e-01,\n",
       "       -1.92876488e+00, -2.00766740e+00, -1.99938500e+00, -1.98802585e+00,\n",
       "       -1.69915108e+00,  6.44610788e+00, -1.32479220e+00, -9.81044174e-01,\n",
       "       -2.00109346e+00, -1.90741488e+00, -1.52309573e+00, -2.00869935e+00,\n",
       "       -2.00868789e+00, -1.46042167e+00, -1.98331326e+00, -1.99480236e+00,\n",
       "       -1.69556981e+00])"
      ]
     },
     "execution_count": 58,
     "metadata": {},
     "output_type": "execute_result"
    }
   ],
   "source": [
    "pred"
   ]
  },
  {
   "cell_type": "code",
   "execution_count": 59,
   "id": "c3f00b85-bedf-4334-a20e-fe9d13d6d694",
   "metadata": {},
   "outputs": [
    {
     "data": {
      "text/plain": [
       "Text(0.5, 1.0, 'Cumulative Cases vs GDP per capita')"
      ]
     },
     "execution_count": 59,
     "metadata": {},
     "output_type": "execute_result"
    },
    {
     "data": {
      "image/png": "[encoded data removed]",
      "text/plain": [
       "<Figure size 1008x576 with 1 Axes>"
      ]
     },
     "metadata": {
      "needs_background": "light"
     },
     "output_type": "display_data"
    }
   ],
   "source": [
    "plt.figure(figsize=(14, 8))\n",
    "plt.plot(x1, y_data, 'o')\n",
    "plt.plot(x1, pred, 'r')\n",
    "plt.xlabel(\"Cumulative Cases\")\n",
    "plt.ylabel(\"GDP per capita\")\n",
    "plt.title(\"Cumulative Cases vs GDP per capita\")"
   ]
  },
  {
   "cell_type": "code",
   "execution_count": null,
   "id": "4d236ae8-ce18-4880-80ff-02c892d3488e",
   "metadata": {},
   "outputs": [],
   "source": []
  },
  {
   "cell_type": "code",
   "execution_count": null,
   "id": "d671711f-beef-417a-89e4-3add214ed756",
   "metadata": {},
   "outputs": [],
   "source": []
  }
 ],
 "metadata": {
  "kernelspec": {
   "display_name": "Python 3 (ipykernel)",
   "language": "python",
   "name": "python3"
  },
  "language_info": {
   "codemirror_mode": {
    "name": "ipython",
    "version": 3
   },
   "file_extension": ".py",
   "mimetype": "text/x-python",
   "name": "python",
   "nbconvert_exporter": "python",
   "pygments_lexer": "ipython3",
   "version": "3.9.12"
  }
 },
 "nbformat": 4,
 "nbformat_minor": 5
}
